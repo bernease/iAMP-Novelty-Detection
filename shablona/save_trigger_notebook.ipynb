{
 "cells": [
  {
   "cell_type": "code",
   "execution_count": 1,
   "metadata": {
    "collapsed": false
   },
   "outputs": [],
   "source": [
    "import socket \n",
    "from datetime import datetime\n",
    "from config import instruments, instrument_buffer_sizes, saving_parameters"
   ]
  },
  {
   "cell_type": "code",
   "execution_count": 2,
   "metadata": {
    "collapsed": false
   },
   "outputs": [],
   "source": [
    "def init_trigger_status():\n",
    "    \n",
    "    zero_time = datetime(2000,1,1,0,0,0)\n",
    "    \n",
    "    last_trigger = {}\n",
    "    unsent_trigs = {}\n",
    "    for inst in instruments:\n",
    "        last_trigger[inst] = zero_time\n",
    "        unsent_trigs[inst] = []\n",
    "    \n",
    "    trigger_status = {'last_trigger': last_trigger, 'unsent_trigs': unsent_trigs}\n",
    "    \n",
    "    return trigger_status"
   ]
  },
  {
   "cell_type": "code",
   "execution_count": 3,
   "metadata": {
    "collapsed": false
   },
   "outputs": [
    {
     "data": {
      "text/plain": [
       "{'last_trigger': {'adcp': datetime.datetime(2000, 1, 1, 0, 0),\n",
       "  'blueview': datetime.datetime(2000, 1, 1, 0, 0),\n",
       "  'camera': datetime.datetime(2000, 1, 1, 0, 0),\n",
       "  'hydrophones': datetime.datetime(2000, 1, 1, 0, 0),\n",
       "  'm3': datetime.datetime(2000, 1, 1, 0, 0)},\n",
       " 'unsent_trigs': {'adcp': [],\n",
       "  'blueview': [],\n",
       "  'camera': [],\n",
       "  'hydrophones': [],\n",
       "  'm3': []}}"
      ]
     },
     "execution_count": 3,
     "metadata": {},
     "output_type": "execute_result"
    }
   ],
   "source": [
    "trigger_status = init_trigger_status()"
   ]
  },
  {
   "cell_type": "code",
   "execution_count": 8,
   "metadata": {
    "collapsed": false,
    "scrolled": true
   },
   "outputs": [
    {
     "name": "stdout",
     "output_type": "stream",
     "text": [
      "430.148  seconds since last  m3  detection\n",
      "510343563.663  seconds since last  m3  trigger sent\n",
      "sending triggers for  ['m3']\n",
      "sent triggers: ['m3']\n"
     ]
    },
    {
     "data": {
      "text/plain": [
       "{'last_trigger': {'adcp': datetime.datetime(2000, 1, 1, 0, 0),\n",
       "  'blueview': datetime.datetime(2000, 1, 1, 0, 0),\n",
       "  'camera': datetime.datetime(2000, 1, 1, 0, 0),\n",
       "  'hydrophones': datetime.datetime(2000, 1, 1, 0, 0),\n",
       "  'm3': datetime.datetime(2016, 3, 3, 17, 55, 40, 623663)},\n",
       " 'unsent_trigs': {'adcp': [],\n",
       "  'blueview': [],\n",
       "  'camera': [],\n",
       "  'hydrophones': [],\n",
       "  'm3': []}}"
      ]
     },
     "execution_count": 8,
     "metadata": {},
     "output_type": "execute_result"
    }
   ],
   "source": [
    "new_trigs = ['m3']\n",
    "\n",
    "udp_IP = \"localhost\"\n",
    "udp_port = 61500 # port to send data over\n",
    "\n",
    "sock = socket.socket(socket.AF_INET, socket.SOCK_DGRAM)\n",
    "trigs_to_send, trigger_status = is_time_to_send(sock, udp_IP, udp_port, new_trigs, trigger_status)\n",
    "sock.close()\n",
    "\n",
    "print('sent triggers:', trigs_to_send)\n",
    "trigger_status\n"
   ]
  },
  {
   "cell_type": "code",
   "execution_count": 7,
   "metadata": {
    "collapsed": false
   },
   "outputs": [],
   "source": [
    "def is_time_to_send(sock, udp_IP, udp_port, new_trigs, trigger_status):\n",
    "    \"\"\"\n",
    "    Add any new triggers to trigger_status, and determine what, if any save \n",
    "    triggers to send to LabView.\n",
    "    \n",
    "    inputs:\n",
    "    socket - socket over which to send triggers to LabView\n",
    "    udp_IP - IP address over which to send triggers to LabView (\"localhost\")\n",
    "    udp_port - port over which to send triggers to LabView (61500)\n",
    "    new_triggs - new triggers to send (or wait to send)\n",
    "    trigger_status - dictionary containing unsent triggers and timestamp that \n",
    "                    last trigger was sent to each instrument\n",
    "    \n",
    "    \"\"\"\n",
    "    trigs_to_send = []\n",
    "\n",
    "    timestamp = datetime.utcnow()\n",
    "\n",
    "    unsent_trigs = trigger_status['unsent_trigs']\n",
    "    last_trigger = trigger_status['last_trigger']\n",
    "    buffer_overlap = saving_parameters['buffer_overlap']\n",
    "    min_time_between_targets = saving_parameters['min_time_between_targets']\n",
    "    time_before_target = saving_parameters['time_before_target']\n",
    "\n",
    "    # add any new triggers to trigger_status list\n",
    "    for inst in new_trigs: \n",
    "        unsent_trigs[inst].append(timestamp)\n",
    "\n",
    "    # for all triggers that have not been sent yet (unsent_trigs)\n",
    "    for inst in unsent_trigs:\n",
    "        if unsent_trigs[inst]:\n",
    "            # calculate elapsed time since the target was detected\n",
    "            time_since_detection = delta_t_in_seconds(timestamp, unsent_trigs[inst][0])\n",
    "            print(time_since_detection, ' seconds since last ', inst, ' detection')\n",
    "\n",
    "            # calculate elapsed time since the last trigger for this instrument\n",
    "            time_since_last_trigger = delta_t_in_seconds(timestamp, last_trigger[inst])\n",
    "            print(time_since_last_trigger, ' seconds since last ', inst, ' trigger sent')\n",
    "\n",
    "            # Determine if more time than \"wait_before_send\" (from config) has elapsed\n",
    "            # since detection.\n",
    "            if time_since_detection >= instrument_buffer_sizes[inst] - time_before_target:\n",
    "\n",
    "                # Determine if sufficient time has passed since last trigger was sent to inst to \n",
    "                # create an overlap of \"buffer_overlap\" (from config) in the saved data\n",
    "                if time_since_last_trigger >= (instrument_buffer_sizes[inst] - buffer_overlap):\n",
    "\n",
    "                    del unsent_trigs[inst][0]\n",
    "                    trigs_to_send.append(inst)\n",
    "                    last_trigger[inst] = timestamp\n",
    "\n",
    "                    # remove triggers that are within min_time_between_targets (i.e.\n",
    "                    # already saved by this buffer)\n",
    "                    for index, unsent_trig in enumerate(unsent_trigs[inst]):\n",
    "                        time_since_detection = delta_t_in_seconds(last_trigger[inst], unsent_trigs[inst][index])\n",
    "             \n",
    "                        if time_since_detection < min_time_between_targets:\n",
    "                            del unsent_trigs[inst][index]\n",
    "                        \n",
    "    # send triggers over socket! \n",
    "    if trigs_to_send:   \n",
    "        print('sending triggers for ', trigs_to_send)\n",
    "        send_triggers(sock, udp_IP, udp_port, trigs_to_send)\n",
    "\n",
    "    trigger_status = {'unsent_trigs': unsent_trigs, 'last_trigger': last_trigger}\n",
    "    \n",
    "    return trigs_to_send, trigger_status\n",
    "\n",
    "\n",
    "def delta_t_in_seconds(datetime1, datetime2):\n",
    "    \"\"\"\n",
    "    calculate delta t in seconds between two datetime objects\n",
    "    \"\"\"\n",
    "    delta_t = datetime1 - datetime2\n",
    "    return delta_t.days*(60*60*24) + delta_t.seconds + delta_t.microseconds/1000\n"
   ]
  },
  {
   "cell_type": "code",
   "execution_count": 5,
   "metadata": {
    "collapsed": true
   },
   "outputs": [],
   "source": [
    "def send_triggers(sock, udp_IP, udp_port, trigs_to_send):\n",
    "    \"\"\"\n",
    "    send triggers to save data to AMP interface.\n",
    "\n",
    "    Inputs:\n",
    "    sock - socket over which to send data (create with socket.socket(socket.AF_INET, socket.SOCK_DGRAM))\n",
    "    udp_IP - IP address to send data over (typically \"localhost\")\n",
    "    udp_port - port to send data over (typically 61500)\n",
    "    new_trigs - list of instruments to send trigger\n",
    "\n",
    "    Outputs:\n",
    "    bytes_sent = number of bytes sent, should be 17 for 4 instruments.\n",
    "\n",
    "    Data is sent in the following format:\n",
    "        \"AAAA 1 1 1 1 1 ZZZZ\" where \"AAAA\" and \"ZZZZZ\" are always the header and\n",
    "        footer, and the \"1\" values are zero or 1 if that instrument should\n",
    "        offload data (in the order of the instruments list from config)\n",
    "    \"\"\"\n",
    "\n",
    "\n",
    "    msg = \"AAAA \"\n",
    "\n",
    "    for instrument in instruments:\n",
    "        if instrument in trigs_to_send:\n",
    "            msg += '1 '\n",
    "        else:\n",
    "            msg += '0 '\n",
    "\n",
    "    msg += 'ZZZZ'\n",
    "    msg = bytes(msg, 'utf-8')\n",
    "\n",
    "    bytes_sent = sock.sendto(msg, (udp_IP, udp_port))\n",
    "\n",
    "    return bytes_sent"
   ]
  },
  {
   "cell_type": "code",
   "execution_count": null,
   "metadata": {
    "collapsed": false
   },
   "outputs": [],
   "source": [
    "test = {'a': 1,'b' : 2,'c': 3}\n",
    "\n",
    "for key in test:\n",
    "    print(key)\n"
   ]
  },
  {
   "cell_type": "code",
   "execution_count": null,
   "metadata": {
    "collapsed": true
   },
   "outputs": [],
   "source": [
    "test = [1]\n"
   ]
  },
  {
   "cell_type": "code",
   "execution_count": null,
   "metadata": {
    "collapsed": false
   },
   "outputs": [],
   "source": [
    "del test[0]\n",
    "test"
   ]
  },
  {
   "cell_type": "code",
   "execution_count": null,
   "metadata": {
    "collapsed": false
   },
   "outputs": [],
   "source": [
    "test = []\n",
    "\n",
    "for index, unsent_trigger in enumerate(test):\n",
    "    print(index)"
   ]
  }
 ],
 "metadata": {
  "kernelspec": {
   "display_name": "Python 3",
   "language": "python",
   "name": "python3"
  },
  "language_info": {
   "codemirror_mode": {
    "name": "ipython",
    "version": 3
   },
   "file_extension": ".py",
   "mimetype": "text/x-python",
   "name": "python",
   "nbconvert_exporter": "python",
   "pygments_lexer": "ipython3",
   "version": "3.5.1"
  }
 },
 "nbformat": 4,
 "nbformat_minor": 0
}
