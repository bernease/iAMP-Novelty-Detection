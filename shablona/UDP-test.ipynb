{
 "cells": [
  {
   "cell_type": "code",
   "execution_count": 21,
   "metadata": {
    "collapsed": false
   },
   "outputs": [
    {
     "name": "stdout",
     "output_type": "stream",
     "text": [
      "Heading is  -0.928\n",
      "Speed is  0.555800323857\n"
     ]
    }
   ],
   "source": [
    "import ADCP_comms\n",
    "ADCP_comms.ADCP_read(\"\",61557,1024,5)"
   ]
  },
  {
   "cell_type": "code",
   "execution_count": 4,
   "metadata": {
    "collapsed": false
   },
   "outputs": [],
   "source": [
    "data = 'AAAA 1455090511 126 16 4 8 96 -8 -247 -22 -253 -412 -410 317 1156 -38 792 761 -157 253 6 67 -186 138 119 253 388 -501 -496 1649 2433 -1846 -89 1562 -216 1363 -489 -92 134 26 -66 3 -1 -257 -286 573 1027 -522 70 554 -132 449 129 248 67 -17 8 17 -92 4 -39 126 -952 678 2240 -166 19 84 268 -76 ZZZZ'"
   ]
  },
  {
   "cell_type": "code",
   "execution_count": 6,
   "metadata": {
    "collapsed": false
   },
   "outputs": [],
   "source": [
    "data = data.split(' ')"
   ]
  },
  {
   "cell_type": "code",
   "execution_count": 7,
   "metadata": {
    "collapsed": false
   },
   "outputs": [
    {
     "data": {
      "text/plain": [
       "['AAAA',\n",
       " '1455090511',\n",
       " '126',\n",
       " '16',\n",
       " '4',\n",
       " '8',\n",
       " '96',\n",
       " '-8',\n",
       " '-247',\n",
       " '-22',\n",
       " '-253',\n",
       " '-412',\n",
       " '-410',\n",
       " '317',\n",
       " '1156',\n",
       " '-38',\n",
       " '792',\n",
       " '761',\n",
       " '-157',\n",
       " '253',\n",
       " '6',\n",
       " '67',\n",
       " '-186',\n",
       " '138',\n",
       " '119',\n",
       " '253',\n",
       " '388',\n",
       " '-501',\n",
       " '-496',\n",
       " '1649',\n",
       " '2433',\n",
       " '-1846',\n",
       " '-89',\n",
       " '1562',\n",
       " '-216',\n",
       " '1363',\n",
       " '-489',\n",
       " '-92',\n",
       " '134',\n",
       " '26',\n",
       " '-66',\n",
       " '3',\n",
       " '-1',\n",
       " '-257',\n",
       " '-286',\n",
       " '573',\n",
       " '1027',\n",
       " '-522',\n",
       " '70',\n",
       " '554',\n",
       " '-132',\n",
       " '449',\n",
       " '129',\n",
       " '248',\n",
       " '67',\n",
       " '-17',\n",
       " '8',\n",
       " '17',\n",
       " '-92',\n",
       " '4',\n",
       " '-39',\n",
       " '126',\n",
       " '-952',\n",
       " '678',\n",
       " '2240',\n",
       " '-166',\n",
       " '19',\n",
       " '84',\n",
       " '268',\n",
       " '-76',\n",
       " 'ZZZZ']"
      ]
     },
     "execution_count": 7,
     "metadata": {},
     "output_type": "execute_result"
    }
   ],
   "source": [
    "data"
   ]
  },
  {
   "cell_type": "code",
   "execution_count": 17,
   "metadata": {
    "collapsed": false
   },
   "outputs": [],
   "source": [
    "import numpy as np\n",
    "timestamp = float(data[1]) + float(data[2])/1000\n",
    "nCells = int(data[3])\n",
    "nBeams = int(data[4])\n",
    "pressure = float(data[5])\n",
    "current = np.array(list(map(float,list(data[6:-2]))))/1000\n",
    "current = np.resize(current, (nBeams,nCells)).round(3)"
   ]
  },
  {
   "cell_type": "code",
   "execution_count": 9,
   "metadata": {
    "collapsed": false
   },
   "outputs": [
    {
     "data": {
      "text/plain": [
       "16"
      ]
     },
     "execution_count": 9,
     "metadata": {},
     "output_type": "execute_result"
    }
   ],
   "source": [
    "nCells"
   ]
  },
  {
   "cell_type": "code",
   "execution_count": 10,
   "metadata": {
    "collapsed": false
   },
   "outputs": [
    {
     "data": {
      "text/plain": [
       "4"
      ]
     },
     "execution_count": 10,
     "metadata": {},
     "output_type": "execute_result"
    }
   ],
   "source": [
    "nBeams"
   ]
  },
  {
   "cell_type": "code",
   "execution_count": 15,
   "metadata": {
    "collapsed": false
   },
   "outputs": [
    {
     "data": {
      "text/plain": [
       "8.0"
      ]
     },
     "execution_count": 15,
     "metadata": {},
     "output_type": "execute_result"
    }
   ],
   "source": [
    "pressure"
   ]
  },
  {
   "cell_type": "code",
   "execution_count": 20,
   "metadata": {
    "collapsed": false
   },
   "outputs": [
    {
     "name": "stdout",
     "output_type": "stream",
     "text": [
      "[[  9.60000000e-02  -8.00000000e-03  -2.47000000e-01  -2.20000000e-02\n",
      "   -2.53000000e-01  -4.12000000e-01  -4.10000000e-01   3.17000000e-01\n",
      "    1.15600000e+00  -3.80000000e-02   7.92000000e-01   7.61000000e-01\n",
      "   -1.57000000e-01   2.53000000e-01   6.00000000e-03   6.70000000e-02]\n",
      " [ -1.86000000e-01   1.38000000e-01   1.19000000e-01   2.53000000e-01\n",
      "    3.88000000e-01  -5.01000000e-01  -4.96000000e-01   1.64900000e+00\n",
      "    2.43300000e+00  -1.84600000e+00  -8.90000000e-02   1.56200000e+00\n",
      "   -2.16000000e-01   1.36300000e+00  -4.89000000e-01  -9.20000000e-02]\n",
      " [  1.34000000e-01   2.60000000e-02  -6.60000000e-02   3.00000000e-03\n",
      "   -1.00000000e-03  -2.57000000e-01  -2.86000000e-01   5.73000000e-01\n",
      "    1.02700000e+00  -5.22000000e-01   7.00000000e-02   5.54000000e-01\n",
      "   -1.32000000e-01   4.49000000e-01   1.29000000e-01   2.48000000e-01]\n",
      " [  6.70000000e-02  -1.70000000e-02   8.00000000e-03   1.70000000e-02\n",
      "   -9.20000000e-02   4.00000000e-03  -3.90000000e-02   1.26000000e-01\n",
      "   -9.52000000e-01   6.78000000e-01   2.24000000e+00  -1.66000000e-01\n",
      "    1.90000000e-02   8.40000000e-02   2.68000000e-01   9.60000000e-02]]\n"
     ]
    }
   ],
   "source": []
  },
  {
   "cell_type": "code",
   "execution_count": null,
   "metadata": {
    "collapsed": true
   },
   "outputs": [],
   "source": []
  }
 ],
 "metadata": {
  "kernelspec": {
   "display_name": "Python 3",
   "language": "python",
   "name": "python3"
  },
  "language_info": {
   "codemirror_mode": {
    "name": "ipython",
    "version": 3
   },
   "file_extension": ".py",
   "mimetype": "text/x-python",
   "name": "python",
   "nbconvert_exporter": "python",
   "pygments_lexer": "ipython3",
   "version": "3.5.1"
  }
 },
 "nbformat": 4,
 "nbformat_minor": 0
}
