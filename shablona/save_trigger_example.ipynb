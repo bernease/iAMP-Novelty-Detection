{
 "cells": [
  {
   "cell_type": "code",
   "execution_count": 2,
   "metadata": {
    "collapsed": false
   },
   "outputs": [
    {
     "name": "stdout",
     "output_type": "stream",
     "text": [
      "sent  17  bytes\n"
     ]
    }
   ],
   "source": [
    "import save_triggers\n",
    "import socket \n",
    "\n",
    "triggers = {'M3': True,'BlueView': True,'PAM': False,'Cameras': True}\n",
    "instruments = ['M3', 'BlueView', 'PAM', 'Cameras']\n",
    "\n",
    "udp_IP = \"localhost\"\n",
    "udp_port = 61500 # port to send data over\n",
    "\n",
    "sock = socket.socket(socket.AF_INET, socket.SOCK_DGRAM)\n",
    "bytes_sent = save_triggers.send_triggers(sock, udp_IP, udp_port, triggers, instruments)\n",
    "print('sent ', bytes_sent, ' bytes')\n",
    "sock.close()\n"
   ]
  },
  {
   "cell_type": "code",
   "execution_count": null,
   "metadata": {
    "collapsed": true
   },
   "outputs": [],
   "source": []
  }
 ],
 "metadata": {
  "kernelspec": {
   "display_name": "Python 3",
   "language": "python",
   "name": "python3"
  },
  "language_info": {
   "codemirror_mode": {
    "name": "ipython",
    "version": 3
   },
   "file_extension": ".py",
   "mimetype": "text/x-python",
   "name": "python",
   "nbconvert_exporter": "python",
   "pygments_lexer": "ipython3",
   "version": "3.5.1"
  }
 },
 "nbformat": 4,
 "nbformat_minor": 0
}
