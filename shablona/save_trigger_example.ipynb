{
 "cells": [
  {
   "cell_type": "code",
   "execution_count": 18,
   "metadata": {
    "collapsed": false
   },
   "outputs": [
    {
     "name": "stdout",
     "output_type": "stream",
     "text": [
      "17\n"
     ]
    }
   ],
   "source": [
    "import save_triggers\n",
    "\n",
    "triggers = {'M3': True,'BlueView': False,'PAM': True,'Cameras': False}\n",
    "instruments = ['M3', 'BlueView', 'PAM', 'Cameras']\n",
    "\n",
    "udp_IP = \"localhost\"\n",
    "udp_port = 61500 # port to send data over\n",
    "\n",
    "sock = socket.socket(socket.AF_INET, socket.SOCK_DGRAM)\n",
    "bytes_sent = save_triggers.send_triggers(sock, udp_IP, udp_port, triggers, instruments)\n",
    "print(bytes_sent)\n",
    "sock.close()\n"
   ]
  },
  {
   "cell_type": "code",
   "execution_count": null,
   "metadata": {
    "collapsed": true
   },
   "outputs": [],
   "source": []
  }
 ],
 "metadata": {
  "kernelspec": {
   "display_name": "Python 3",
   "language": "python",
   "name": "python3"
  },
  "language_info": {
   "codemirror_mode": {
    "name": "ipython",
    "version": 3
   },
   "file_extension": ".py",
   "mimetype": "text/x-python",
   "name": "python",
   "nbconvert_exporter": "python",
   "pygments_lexer": "ipython3",
   "version": "3.5.1"
  }
 },
 "nbformat": 4,
 "nbformat_minor": 0
}
