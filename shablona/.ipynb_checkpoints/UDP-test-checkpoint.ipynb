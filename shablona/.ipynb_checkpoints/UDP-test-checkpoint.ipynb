{
 "cells": [
  {
   "cell_type": "code",
   "execution_count": null,
   "metadata": {
    "collapsed": true
   },
   "outputs": [],
   "source": [
    "import socket\n",
    "import numpy as np\n",
    "\n",
    "def ADCP_read(udp_IP,udp_port,buff_size,timeout):\n",
    "    \"\"\"\n",
    "    Reads ADCP data continously from the specified por. **EDITING NOTE - break added after timeout** \n",
    "    \n",
    "    Inputs:\n",
    "    udp_ip: \"\" for local host, otherwise \"XXX.XXX.XXX.XXX\"\n",
    "    udp_port: port for UDP communication (61557 = ADCP Default)\n",
    "    buff_size: Each read iteration will read buff_size bytes of data, or until the end of a packet is reached.\n",
    "    \"\"\"\n",
    "\n",
    "    # create socket\n",
    "    sock = socket.socket(socket.AF_INET, socket.SOCK_DGRAM)\n",
    "    sock.bind((udp_IP,udp_port))\n",
    "    sock.settimeout(timeout)\n",
    "\n",
    "    # read one data packet\n",
    "    currents = [];\n",
    "    headers = [];\n",
    "    while True:\n",
    "        \n",
    "        # read data. Continue reading if timeout error, attempt to reconnect if there is a different\n",
    "        # socket error.\n",
    "        try:\n",
    "            data,addr = sock.recvfrom(buff_size)   \n",
    "        except socket.timeout:  \n",
    "            if len(currents):\n",
    "                heading, speed = process_ADCP(currents,header)\n",
    "                print(heading,speed)\n",
    "                \n",
    "                currents = []\n",
    "                \n",
    "                # temporary exit after burst\n",
    "                sock.close()\n",
    "                break\n",
    "                \n",
    "            else:\n",
    "                pass\n",
    "            \n",
    "        except socket.error:\n",
    "            sock.close()\n",
    "            sock = socket.socket(socket.AF_INET, socket.SOCK_DGRAM)\n",
    "            sock.bind((udp_IP,udp_port))\n",
    "            sock.settimeout(timeout)\n",
    "        \n",
    "        # decode data, if present\n",
    "        try:\n",
    "            data\n",
    "        except NameError:\n",
    "            pass\n",
    "        else:\n",
    "            current, header = decode_ADCP(data)\n",
    "            currents.append(current)\n",
    "            headers.append(header)\n",
    "            del data\n",
    "\n",
    "\n",
    "    sock.close()\n",
    "\n",
    "\n",
    "def decode_ADCP(data):\n",
    "    \"\"\" \n",
    "    Decodes ADCP data read in over UDP. Returns list with elements [timestamp, nCells, nBeams, current].\n",
    "\n",
    "    Timestamp is in unix format, and current values are in m/s. array of current values is size nBeams x nCells.\n",
    "    \"\"\"\n",
    "    data = data.decode(\"utf-8\")\n",
    "\n",
    "    if data.endswith('ZZZZ') and data.startswith('AAAA'):\n",
    "        data = data.split(' ')\n",
    "        timestamp = float(data[1])+float(data[2])/1000\n",
    "        nCells = int(data[3])\n",
    "        nBeams = int(data[4])\n",
    "        current = np.array(list(map(float,list(data[5:-2]))))/1000\n",
    "        current = np.resize(current,(nBeams,nCells))\n",
    "        current = current.round(3)\n",
    "        \n",
    "        header = [timestamp,nCells,nBeams] # add pressure, low correlation flag?\n",
    "    else:\n",
    "        header = []\n",
    "        current = []\n",
    "        \n",
    "    return current, header\n",
    "\n",
    "    \n",
    "def process_ADCP(currents,header):\n",
    "    \"\"\"\n",
    "    Takes average of all current data for one burst, and averages bins 2-4 for each direction.\n",
    "    \n",
    "    Returns magnitude of E and N velocity, and angle from due north (in radians).\n",
    "    \"\"\"\n",
    "    \n",
    "    currents = np.array(currents)\n",
    "    bin_avg = np.mean(currents,axis=0)\n",
    "    bins = bin_avg[:,1:4]\n",
    "    avg = np.mean(bins,axis=1).round(3)\n",
    "    \n",
    "    heading = np.arctan(avg[1]/avg[0]).round(3)\n",
    "    speed = (avg[1]**2 + avg[0]**2)**0.5\n",
    "    \n",
    "    # save to database \n",
    "    \n",
    "    return heading, speed\n",
    "    "
   ]
  },
  {
   "cell_type": "code",
   "execution_count": null,
   "metadata": {
    "collapsed": false
   },
   "outputs": [],
   "source": [
    "ADCP_read(\"\",61557,1024,5)"
   ]
  },
  {
   "cell_type": "code",
   "execution_count": null,
   "metadata": {
    "collapsed": false
   },
   "outputs": [],
   "source": [
    "import numpy as np\n",
    "test = np.array([[ 0.14922222, 0.13135185, 0.14364815, 0.11290741, 0.12048148, 0.0277963, 0.15935185, 0.20455556, 0.25861111, \n",
    "         0.0897963, 0.07453704, 0.09209259, -0.33040741, 0.0412037, 0.17387037, -0.03107407],\n",
    " [-0.12292593, -0.12168519, -0.14438889, -0.16833333, -0.14622222, -0.35366667,  -0.29527778, \n",
    "  -0.30664815, -0.16046296,  0.041, -0.15637037, 0.00959259,  -0.51262963, -0.23707407, -0.02511111,  0.03466667],\n",
    " [ 0.01412963, 0.00724074, 0.01294444, 0.0065, -0.0107963, -0.10283333, -0.03542593, -0.01559259, 0.06505556, \n",
    "  0.06598148, -0.0135, 0.20144444, -0.04816667, -0.03483333, -0.06653704, 0.04822222],\n",
    " [ 0.01261111, 0.00757407, 0.01222222, 0.00701852, 0.00122222, 0.04866667, 0.05083333, 0.03942593, 0.04314815, 0.00968519, 0.03001852, -0.00472222,\n",
    "   0.10646296, -0.09911111, -0.0102037,   0.14922222]])"
   ]
  },
  {
   "cell_type": "code",
   "execution_count": null,
   "metadata": {
    "collapsed": false
   },
   "outputs": [],
   "source": [
    "bins = test[:,1:4]\n",
    "bins"
   ]
  },
  {
   "cell_type": "code",
   "execution_count": null,
   "metadata": {
    "collapsed": false
   },
   "outputs": [],
   "source": [
    "avg = np.mean(bins,axis=1).round(3)\n",
    "avg"
   ]
  },
  {
   "cell_type": "code",
   "execution_count": null,
   "metadata": {
    "collapsed": false
   },
   "outputs": [],
   "source": [
    "np.arctan(avg[1]/avg[0]).round(3)"
   ]
  },
  {
   "cell_type": "code",
   "execution_count": null,
   "metadata": {
    "collapsed": false
   },
   "outputs": [],
   "source": [
    "speed = (avg[1]**2 + avg[0]**2)**0.5\n",
    "speed"
   ]
  },
  {
   "cell_type": "code",
   "execution_count": null,
   "metadata": {
    "collapsed": true
   },
   "outputs": [],
   "source": []
  }
 ],
 "metadata": {
  "kernelspec": {
   "display_name": "Python 3",
   "language": "python",
   "name": "python3"
  },
  "language_info": {
   "codemirror_mode": {
    "name": "ipython",
    "version": 3
   },
   "file_extension": ".py",
   "mimetype": "text/x-python",
   "name": "python",
   "nbconvert_exporter": "python",
   "pygments_lexer": "ipython3",
   "version": "3.5.1"
  }
 },
 "nbformat": 4,
 "nbformat_minor": 0
}
