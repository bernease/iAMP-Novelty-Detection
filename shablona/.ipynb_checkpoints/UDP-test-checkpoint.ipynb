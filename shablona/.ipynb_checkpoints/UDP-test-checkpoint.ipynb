{
 "cells": [
  {
   "cell_type": "code",
   "execution_count": 2,
   "metadata": {
    "collapsed": false
   },
   "outputs": [],
   "source": [
    "import socket\n",
    "import select\n",
    "\n",
    "UDP_IP = \"\" # IP address of data stream\n",
    "UDP_PORT = 61557 # port num\n",
    "BUFF_SIZE = 1024 # bytes of data to read in each \"chunk\"\n",
    "\n",
    "# create socket\n",
    "sock = socket.socket(socket.AF_INET, socket.SOCK_DGRAM)\n",
    "sock.bind((UDP_IP,UDP_PORT))\n",
    "#sock.setblocking(0)\n",
    "\n",
    "# read one data packet\n",
    "read = True\n",
    "while True:\n",
    "\n",
    "    data,addr = sock.recvfrom(BUFF_SIZE)\n",
    "    \n",
    "    \n",
    "    if data:\n",
    "        data = data.decode(\"utf-8\")\n",
    "        data = data.split(' ')\n",
    "        break\n",
    "    if not data:\n",
    "        break\n",
    "    \n",
    "\n",
    "sock.close()\n"
   ]
  },
  {
   "cell_type": "code",
   "execution_count": null,
   "metadata": {
    "collapsed": true
   },
   "outputs": [],
   "source": []
  },
  {
   "cell_type": "code",
   "execution_count": null,
   "metadata": {
    "collapsed": false
   },
   "outputs": [],
   "source": [
    "import numpy as np\n",
    "import matplotlib.pyplot as plt\n",
    "%matplotlib inline"
   ]
  },
  {
   "cell_type": "code",
   "execution_count": null,
   "metadata": {
    "collapsed": false
   },
   "outputs": [],
   "source": [
    "data"
   ]
  },
  {
   "cell_type": "code",
   "execution_count": null,
   "metadata": {
    "collapsed": false
   },
   "outputs": [],
   "source": [
    "# confirm data packet has header and footer\n",
    "if data[0] == 'AAAA' and data[-1] == 'ZZZZ':\n",
    "    timestamp = float(data[1])+float(data[2])/1000\n",
    "    nCells = int(data[3])\n",
    "    nBeams = int(data[4])\n",
    "    profile = np.array(list(map(float,list(data[5:-2]))))/1000\n",
    "    profile = np.resize(profile,(nBeams,nCells))\n",
    "#else:\n",
    "    # keep reading?\n",
    "\n"
   ]
  },
  {
   "cell_type": "code",
   "execution_count": null,
   "metadata": {
    "collapsed": false
   },
   "outputs": [],
   "source": [
    "profile"
   ]
  },
  {
   "cell_type": "code",
   "execution_count": null,
   "metadata": {
    "collapsed": false
   },
   "outputs": [],
   "source": [
    "plt.plot(profile[0,:])\n"
   ]
  },
  {
   "cell_type": "code",
   "execution_count": null,
   "metadata": {
    "collapsed": true
   },
   "outputs": [],
   "source": []
  }
 ],
 "metadata": {
  "kernelspec": {
   "display_name": "Python 3",
   "language": "python",
   "name": "python3"
  },
  "language_info": {
   "codemirror_mode": {
    "name": "ipython",
    "version": 3
   },
   "file_extension": ".py",
   "mimetype": "text/x-python",
   "name": "python",
   "nbconvert_exporter": "python",
   "pygments_lexer": "ipython3",
   "version": "3.5.1"
  }
 },
 "nbformat": 4,
 "nbformat_minor": 0
}
