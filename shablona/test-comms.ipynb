{
 "cells": [
  {
   "cell_type": "code",
   "execution_count": 1,
   "metadata": {
    "collapsed": false
   },
   "outputs": [],
   "source": [
    "from shablona.comms import InstrumentComms"
   ]
  },
  {
   "cell_type": "code",
   "execution_count": 2,
   "metadata": {
    "collapsed": false
   },
   "outputs": [],
   "source": [
    "import shablona.stage as stage\n",
    "import shablona.targets as targets\n",
    "import shablona.classification as classification\n",
    "import threading"
   ]
  },
  {
   "cell_type": "code",
   "execution_count": 3,
   "metadata": {
    "collapsed": false
   },
   "outputs": [],
   "source": [
    "target_space = targets.TargetSpace()\n",
    "stage_instance = stage.Stage(target_space)\n",
    "\n",
    "comms = InstrumentComms(stage_instance)\n",
    "comms.start()\n",
    "\n"
   ]
  },
  {
   "cell_type": "code",
   "execution_count": 4,
   "metadata": {
    "collapsed": false
   },
   "outputs": [
    {
     "name": "stderr",
     "output_type": "stream",
     "text": [
      "Exception in thread Thread-5:\n",
      "Traceback (most recent call last):\n",
      "  File \"C:\\Users\\Data Collection\\Anaconda3\\lib\\threading.py\", line 914, in _bootstrap_inner\n",
      "    self.run()\n",
      "  File \"C:\\Users\\Data Collection\\Anaconda3\\lib\\threading.py\", line 862, in run\n",
      "    self._target(*self._args, **self._kwargs)\n",
      "  File \"C:\\Users\\Data Collection\\Documents\\iAMP-Novelty-Detection\\shablona\\comms_NIMS_sim.py\", line 48, in read_tracks\n",
      "    s.connect((host, port))\n",
      "ConnectionRefusedError: [WinError 10061] No connection could be made because the target machine actively refused it\n",
      "\n"
     ]
    },
    {
     "data": {
      "text/plain": [
       "[False, True, True]"
      ]
     },
     "execution_count": 4,
     "metadata": {},
     "output_type": "execute_result"
    },
    {
     "name": "stdout",
     "output_type": "stream",
     "text": [
      "PAMGuard Detection of type:  icTalk\n",
      "PAMGuard Detection of type:  icTalk\n",
      "PAMGuard Detection of type:  icTalk\n",
      "PAMGuard Detection of type:  icTalk\n",
      "PAMGuard Detection of type:  icTalk\n",
      "PAMGuard Detection of type:  icTalk\n",
      "PAMGuard Detection of type:  icTalk\n",
      "PAMGuard Detection of type:  icTalk\n",
      "PAMGuard Detection of type:  icTalk\n",
      "PAMGuard Detection of type:  icTalk\n",
      "PAMGuard Detection of type:  icTalk\n",
      "PAMGuard Detection of type:  icTalk\n",
      "PAMGuard Detection of type:  icTalk\n",
      "PAMGuard Detection of type:  icTalk\n",
      "PAMGuard Detection of type:  icTalk\n",
      "PAMGuard Detection of type:  icTalk\n",
      "PAMGuard Detection of type:  icTalk\n",
      "PAMGuard Detection of type:  icTalk\n",
      "PAMGuard Detection of type:  icTalk\n",
      "PAMGuard Detection of type:  Vemco\n",
      "PAMGuard Detection of type:  Vemco\n",
      "PAMGuard Detection of type:  Vemco\n",
      "PAMGuard Detection of type:  Vemco\n",
      "PAMGuard Detection of type:  Vemco\n",
      "PAMGuard Detection of type:  Vemco\n",
      "PAMGuard Detection of type:  Vemco\n"
     ]
    }
   ],
   "source": [
    "comms.check_status()"
   ]
  },
  {
   "cell_type": "code",
   "execution_count": null,
   "metadata": {
    "collapsed": true
   },
   "outputs": [],
   "source": []
  }
 ],
 "metadata": {
  "kernelspec": {
   "display_name": "Python 3",
   "language": "python",
   "name": "python3"
  },
  "language_info": {
   "codemirror_mode": {
    "name": "ipython",
    "version": 3
   },
   "file_extension": ".py",
   "mimetype": "text/x-python",
   "name": "python",
   "nbconvert_exporter": "python",
   "pygments_lexer": "ipython3",
   "version": "3.5.1"
  }
 },
 "nbformat": 4,
 "nbformat_minor": 0
}
