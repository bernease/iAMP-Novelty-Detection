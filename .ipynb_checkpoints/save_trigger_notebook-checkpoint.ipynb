{
 "cells": [
  {
   "cell_type": "code",
   "execution_count": 4,
   "metadata": {
    "collapsed": false
   },
   "outputs": [],
   "source": [
    "import shablona.rules as rules"
   ]
  },
  {
   "cell_type": "code",
   "execution_count": 5,
   "metadata": {
    "collapsed": false
   },
   "outputs": [],
   "source": [
    "trigger_handler = rules.SendTriggers()"
   ]
  },
  {
   "cell_type": "code",
   "execution_count": 7,
   "metadata": {
    "collapsed": false
   },
   "outputs": [
    {
     "data": {
      "text/plain": [
       "{'last_trigger': {'adcp': datetime.datetime(2000, 1, 1, 0, 0),\n",
       "  'blueview': datetime.datetime(2000, 1, 1, 0, 0),\n",
       "  'camera': datetime.datetime(2000, 1, 1, 0, 0),\n",
       "  'hydrophones': datetime.datetime(2000, 1, 1, 0, 0),\n",
       "  'm3': datetime.datetime(2000, 1, 1, 0, 0)},\n",
       " 'unsent_trigs': {'adcp': [],\n",
       "  'blueview': [],\n",
       "  'camera': [],\n",
       "  'hydrophones': [],\n",
       "  'm3': []}}"
      ]
     },
     "execution_count": 7,
     "metadata": {},
     "output_type": "execute_result"
    }
   ],
   "source": [
    "trigger_handler.trigger_status = {'last_trigger': {'adcp': datetime.datetime(2000, 1, 1, 0, 0),\n",
    "  'blueview': datetime.datetime(2000, 1, 1, 0, 0),\n",
    "  'camera': datetime.datetime(2000, 1, 1, 0, 0),\n",
    "  'hydrophones': datetime.datetime(2000, 1, 1, 0, 0),\n",
    "  'm3': datetime.datetime(2000, 1, 1, 0, 0)},\n",
    " 'unsent_trigs': {'adcp': [],\n",
    "  'blueview': [],\n",
    "  'camera': [],\n",
    "  'hydrophones': [],\n",
    "  'm3': []}}"
   ]
  },
  {
   "cell_type": "code",
   "execution_count": null,
   "metadata": {
    "collapsed": true
   },
   "outputs": [],
   "source": []
  }
 ],
 "metadata": {
  "kernelspec": {
   "display_name": "Python 3",
   "language": "python",
   "name": "python3"
  },
  "language_info": {
   "codemirror_mode": {
    "name": "ipython",
    "version": 3
   },
   "file_extension": ".py",
   "mimetype": "text/x-python",
   "name": "python",
   "nbconvert_exporter": "python",
   "pygments_lexer": "ipython3",
   "version": "3.5.1"
  }
 },
 "nbformat": 4,
 "nbformat_minor": 0
}
