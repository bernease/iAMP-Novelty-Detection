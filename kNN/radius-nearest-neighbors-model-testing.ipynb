{
 "cells": [
  {
   "cell_type": "code",
   "execution_count": 2,
   "metadata": {
    "collapsed": false
   },
   "outputs": [],
   "source": [
    "import numpy as np\n",
    "from sklearn import neighbors"
   ]
  },
  {
   "cell_type": "code",
   "execution_count": 4,
   "metadata": {
    "collapsed": false
   },
   "outputs": [],
   "source": [
    "def classify(neigh,existingClasses,newPoints):\n",
    "    \n",
    "    distances,indices = neigh.radius_neighbors(newPoints)\n",
    "\n",
    "    # if there are no points in the radius, expand radius by x and check again before classifying point.\n",
    "    if len(indices)==0 or len(indices)==1: \n",
    "        neigh.radius = r+x\n",
    "        distances,indices = neigh.radius_neighbors(newPoints)         \n",
    "        \n",
    "    # else if there are two points from different classes that are close to the same distance\n",
    "    # (within distance threshold), expand radius to see if there is another very close point\n",
    "    elif len(indices) ==2 and existingClasses[indices[0]]!=existingClasses[indices[1]]:\n",
    "        if abs(distances[0]-distances[1]) <= d:\n",
    "            neigh.radius = r+x\n",
    "    \n",
    "    # predict class of new data \n",
    "    if len(indices)!= 0:\n",
    "        # calculate weights (arbitrary weights for now)\n",
    "        weights = np.array([0,5,5])\n",
    "        \n",
    "        # sum weights for each class\n",
    "        classes = existingClasses[indices[0]]\n",
    "        classes = np.unique(classes[np.where(classes!=0)])  # ignore zero class (outliers)\n",
    "                      \n",
    "        classWeight = np.zeros(len(classes)) # initialize weight array\n",
    "        \n",
    "        # sum weights for every class in selected points\n",
    "        for i,cl in enumerate(classes):\n",
    "            classWeight[i] = sum(weights[np.where(classes==cl)])\n",
    "            \n",
    "        newClass = classes[np.argmax(classWeight)] \n",
    "                \n",
    "    else: \n",
    "        # new class is zero if unclassified\n",
    "        newClass = 0\n",
    "        \n",
    "    return(newClass)\n",
    "    "
   ]
  },
  {
   "cell_type": "code",
   "execution_count": 5,
   "metadata": {
    "collapsed": false
   },
   "outputs": [
    {
     "name": "stdout",
     "output_type": "stream",
     "text": [
      "2\n"
     ]
    }
   ],
   "source": [
    "# using classifier\n",
    "\n",
    "r = 1 # Initial for model\n",
    "x = 1 # increment for expanding radius\n",
    "d = .01 # distance threshold for determing if two points near equidistant\n",
    "\n",
    "# existing points and corresponding classes\n",
    "existingPoints = np.array([[2,3,4,5,6,7,8],[1,3,4,5,6,7,8],[6,2,3,4,5,6,7]]) # existing points in model\n",
    "existingClasses = np.array([1,2,3])\n",
    "\n",
    "# initialize classifier\n",
    "neigh = neighbors.NearestNeighbors(radius = r)\n",
    "\n",
    "# read in new point\n",
    "newPoints = np.array([2,3,4,5,6,7,8],ndmin=2)\n",
    "\n",
    "# fit existing points to classifier\n",
    "neigh.fit(existingPoints)\n",
    "\n",
    "#distances,indices = neigh.radius_neighbors(newPoints)\n",
    "\n",
    "newClass = classify(neigh,existingClasses,newPoints)\n",
    "\n",
    "# Add the new point and new class to the model. Class = 0 if point is unclassified\n",
    "existingPoints = np.append(existingPoints,newPoints)\n",
    "existingClasses = np.append(existingClasses,newClass)\n",
    "\n",
    "print(newClass)"
   ]
  },
  {
   "cell_type": "code",
   "execution_count": 29,
   "metadata": {
    "collapsed": false
   },
   "outputs": [
    {
     "name": "stdout",
     "output_type": "stream",
     "text": [
      "[[2 3 4 5 6 7 8]\n",
      " [1 3 4 5 6 7 8]\n",
      " [6 2 3 4 5 6 7]]\n"
     ]
    }
   ],
   "source": [
    "existingPoints = np.array([[2,3,4,5,6,7,8],[1,3,4,5,6,7,8],[6,2,3,4,5,6,7]]) # existing points in model\n",
    "print(existingPoints)"
   ]
  },
  {
   "cell_type": "code",
   "execution_count": 34,
   "metadata": {
    "collapsed": false
   },
   "outputs": [
    {
     "data": {
      "text/plain": [
       "array([ 0.2,  0. ,  1. ])"
      ]
     },
     "execution_count": 34,
     "metadata": {},
     "output_type": "execute_result"
    }
   ],
   "source": [
    "(existingPoints[:,0]-existingPoints[:,0].min())/(existingPoints[:,0].max()-existingPoints[:,0].min())\n"
   ]
  },
  {
   "cell_type": "code",
   "execution_count": 35,
   "metadata": {
    "collapsed": false
   },
   "outputs": [
    {
     "ename": "SyntaxError",
     "evalue": "unexpected EOF while parsing (<ipython-input-35-774a35e46346>, line 2)",
     "output_type": "error",
     "traceback": [
      "\u001b[1;36m  File \u001b[1;32m\"<ipython-input-35-774a35e46346>\"\u001b[1;36m, line \u001b[1;32m2\u001b[0m\n\u001b[1;33m    for i in range(size(existingPoints[2])):\u001b[0m\n\u001b[1;37m                                            ^\u001b[0m\n\u001b[1;31mSyntaxError\u001b[0m\u001b[1;31m:\u001b[0m unexpected EOF while parsing\n"
     ]
    }
   ],
   "source": [
    "def rescale(existingPoints):\n",
    "    for i in range(size(existingPoints[2])):\n",
    "        existingPoints[:,i] = (existingPoints[:,i]-existingPoints[:,i].min())/(existingPoints[:,i].max()-existingPoints[:,i].min())\n",
    "    return existingPoints"
   ]
  },
  {
   "cell_type": "code",
   "execution_count": 36,
   "metadata": {
    "collapsed": false
   },
   "outputs": [
    {
     "data": {
      "text/plain": [
       "0.8777777777777778"
      ]
     },
     "execution_count": 36,
     "metadata": {},
     "output_type": "execute_result"
    }
   ],
   "source": [
    "9/10-(1/45)"
   ]
  },
  {
   "cell_type": "code",
   "execution_count": 38,
   "metadata": {
    "collapsed": false
   },
   "outputs": [
    {
     "data": {
      "text/plain": [
       "0.10000000000000003"
      ]
     },
     "execution_count": 38,
     "metadata": {},
     "output_type": "execute_result"
    }
   ],
   "source": [
    "(2/5)-3/10"
   ]
  },
  {
   "cell_type": "code",
   "execution_count": null,
   "metadata": {
    "collapsed": true
   },
   "outputs": [],
   "source": []
  }
 ],
 "metadata": {
  "kernelspec": {
   "display_name": "Python 3",
   "language": "python",
   "name": "python3"
  },
  "language_info": {
   "codemirror_mode": {
    "name": "ipython",
    "version": 3
   },
   "file_extension": ".py",
   "mimetype": "text/x-python",
   "name": "python",
   "nbconvert_exporter": "python",
   "pygments_lexer": "ipython3",
   "version": "3.5.1"
  }
 },
 "nbformat": 4,
 "nbformat_minor": 0
}
