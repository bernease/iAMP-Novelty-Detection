{
 "cells": [
  {
   "cell_type": "code",
   "execution_count": 34,
   "metadata": {
    "collapsed": true
   },
   "outputs": [],
   "source": [
    "import numpy as np\n",
    "from sklearn.neighbors import NearestNeighbors"
   ]
  },
  {
   "cell_type": "code",
   "execution_count": 55,
   "metadata": {
    "collapsed": false
   },
   "outputs": [
    {
     "name": "stdout",
     "output_type": "stream",
     "text": [
      "2\n"
     ]
    }
   ],
   "source": [
    "r = 1 # Initial radius for model\n",
    "x = 1 # increment for expanding radius\n",
    "d = .01 # distance threshold for determing if two points near equidistant\n",
    "\n",
    "# existing points and corresponding classes\n",
    "existingPoints = np.array([[2,3,4,5,6,7,8],[1,3,4,5,6,7,8],[6,2,3,4,5,6,7]]) # existing points in model\n",
    "existingClasses = np.array([1,2,3])\n",
    "\n",
    "# initialize classifier\n",
    "neigh = NearestNeighbors(radius = r)\n",
    "\n",
    "# read in new point\n",
    "newPoints = np.array([2,3,4,5,6,7,8],ndmin=2)\n",
    "\n",
    "# fit existing points to classifier\n",
    "neigh.fit(existingPoints)\n",
    "\n",
    "#distances,indices = neigh.radius_neighbors(newPoints)\n",
    "\n",
    "newClass = classify(neigh,existingClasses,newPoints)\n",
    "\n",
    "# Add the new point and new class to the model. Class = 0 if point is unclassified\n",
    "existingPoints = np.append(existingPoints,newPoints)\n",
    "existingClasses = np.append(existingClasses,newClass)\n",
    "\n",
    "print(newClass)"
   ]
  },
  {
   "cell_type": "code",
   "execution_count": 54,
   "metadata": {
    "collapsed": false
   },
   "outputs": [],
   "source": [
    "def classify(neigh,existingClasses,newPoints):\n",
    "    \n",
    "    distances,indices = neigh.radius_neighbors(newPoints)\n",
    "\n",
    "    # if there are no points in the radius, expand radius by x and check again before classifying point.\n",
    "    if len(indices)==0 or len(indices)==1: \n",
    "        neigh.radius = r+x\n",
    "        distances,indices = neigh.radius_neighbors(newPoints)         \n",
    "        \n",
    "    # else if there are two points from different classes that are close to the same distance\n",
    "    # (within distance threshold), expand radius to see if there is another very close point\n",
    "    elif len(indices) ==2 and existingClasses[indices[0]]!=existingClasses[indices[1]]:\n",
    "        if abs(distances[0]-distances[1]) <= d:\n",
    "            neigh.radius = r+x\n",
    "    \n",
    "    # predict class of new data \n",
    "    if len(indices)!=0:\n",
    "        # calculate weights (arbitrary weights for now)\n",
    "        weights = np.array([0,5,5])\n",
    "        \n",
    "        # sum weights for each class\n",
    "        classes = existingClasses[indices[0]]\n",
    "        classes = np.unique(classes[np.where(classes!=0)])  # ignore zero class (outliers)\n",
    "                      \n",
    "        classWeight = np.zeros(len(classes)) # initialize weight array\n",
    "        \n",
    "        for i,cl in enumerate(classes):\n",
    "            classWeight[i] = sum(weights[np.where(classes==cl)])\n",
    "            \n",
    "        newClass = classes[np.argmax(classWeight)] \n",
    "                \n",
    "    else: \n",
    "        newClass = 0\n",
    "        \n",
    "    return(newClass)\n",
    "    \n",
    "    \n",
    "\n",
    "\n",
    "\n",
    "\n"
   ]
  },
  {
   "cell_type": "code",
   "execution_count": 1,
   "metadata": {
    "collapsed": false
   },
   "outputs": [],
   "source": [
    "from enum import Enum\n",
    "\n",
    "class Classes(Enum):\n",
    "    Interesting = 1.1\n",
    "    NotInteresting = 1.2\n",
    "    \n",
    "    FastLarge = 2.1\n",
    "    FastSmall = 2.2\n",
    "    SlowLarge = 2.3\n",
    "    SlowSmall = 2.4\n",
    "    \n",
    "    # SchoolOfFish = 3.1\n",
    "    # SingleFish = 3.2\n",
    "    # Kelp = 3.3\n",
    "    # DolphinOrPorpoise = 3.4"
   ]
  },
  {
   "cell_type": "code",
   "execution_count": 4,
   "metadata": {
    "collapsed": false
   },
   "outputs": [],
   "source": [
    "## Since we are including PAMguard into feature space, use an enum to make np.array work"
   ]
  },
  {
   "cell_type": "code",
   "execution_count": 10,
   "metadata": {
    "collapsed": false
   },
   "outputs": [],
   "source": [
    "from datetime import datetime\n",
    "\n",
    "class DetectedTarget:\n",
    "    \n",
    "    features_label = [\"\",\"\",\"\",\"\",\"\",\"\",\"\",\"\"]\n",
    "        \n",
    "    def __init__(self, features=[], source=\"\", date=datetime.now(), classification=None):\n",
    "        self.features = features\n",
    "        self.source = source\n",
    "        self.date = date\n",
    "        self.classification = classification"
   ]
  },
  {
   "cell_type": "code",
   "execution_count": 11,
   "metadata": {
    "collapsed": false
   },
   "outputs": [],
   "source": [
    "new = Detection()"
   ]
  },
  {
   "cell_type": "code",
   "execution_count": 12,
   "metadata": {
    "collapsed": false
   },
   "outputs": [
    {
     "data": {
      "text/plain": [
       "[]"
      ]
     },
     "execution_count": 12,
     "metadata": {},
     "output_type": "execute_result"
    }
   ],
   "source": [
    "# Features\n",
    "SIZE_FEATURE_WEIGHT = 1.0\n",
    "SPEED_FEATURE_WEIGHT = 1.0\n",
    "SPEED_RELATIVE_TO_CURRENT_FEATURE_WEIGHT = 1.0\n",
    "TARGET_STRENGTH_FEATURE_WEIGHT = 1.0\n",
    "CURRENT_SPEED_FEATURE_WEIGHT = 1.0\n",
    "TIME_OF_DAY_FEATURE_WEIGHT = 1.0\n",
    "PASSIVE_ACOUSTICS_FEATURE_WEIGHT = 1.0\n",
    "\n",
    "## Note: When multiplying features, divide by priority. More compact == more important!\n",
    "\n"
   ]
  },
  {
   "cell_type": "code",
   "execution_count": 13,
   "metadata": {
    "collapsed": true
   },
   "outputs": [],
   "source": [
    "import csv"
   ]
  },
  {
   "cell_type": "code",
   "execution_count": 28,
   "metadata": {
    "collapsed": false
   },
   "outputs": [],
   "source": [
    "current_model_targets = []\n",
    "\n",
    "with open(\"current_model_targets.csv\") as f:\n",
    "    cmt = csv.reader(f, delimiter=\";\")\n",
    "    for row in cmt:\n",
    "        current_model_targets.append(DetectedTarget(features=list(row[1]),source=row[2],date=row[3]))"
   ]
  },
  {
   "cell_type": "code",
   "execution_count": 27,
   "metadata": {
    "collapsed": false
   },
   "outputs": [
    {
     "data": {
      "text/plain": [
       "[<__main__.DetectedTarget at 0x1051e1a90>,\n",
       " <__main__.DetectedTarget at 0x1051dbba8>,\n",
       " <__main__.DetectedTarget at 0x1051e1a58>]"
      ]
     },
     "execution_count": 27,
     "metadata": {},
     "output_type": "execute_result"
    }
   ],
   "source": [
    "current_model_targets"
   ]
  },
  {
   "cell_type": "code",
   "execution_count": 32,
   "metadata": {
    "collapsed": true
   },
   "outputs": [],
   "source": [
    "class DetectedTarget:\n",
    "    \n",
    "    features_label = [\"\",\"\",\"\",\"\",\"\",\"\",\"\",\"\"]\n",
    "        \n",
    "    def __init__(self, features=[], source=\"Unknown\", date=datetime.now(), classification=None):\n",
    "        self.features = features\n",
    "        self.source = source\n",
    "        self.date = date\n",
    "        self.classification = classification\n",
    "        "
   ]
  },
  {
   "cell_type": "code",
   "execution_count": 87,
   "metadata": {
    "collapsed": false
   },
   "outputs": [
    {
     "name": "stdout",
     "output_type": "stream",
     "text": [
      "[1.0, 2.0, 3.0, 4.0, 5.0, 6.0, 7.0]\n",
      "[7.0, 6.0, 5.0, 4.0, 3.0, 2.0, 1.0]\n",
      "[<__main__.DetectedTarget object at 0x1051cbb00>, <__main__.DetectedTarget object at 0x1073f3208>]\n"
     ]
    }
   ],
   "source": [
    "from enum import Enum\n",
    "import csv\n",
    "\n",
    "# Global variables\n",
    "INITIAL_RADIUS = 3.0\n",
    "\n",
    "# Define classes\n",
    "class Classes(Enum):\n",
    "    Interesting = 1.1\n",
    "    NotInteresting = 1.2\n",
    "    \n",
    "    FastLarge = 2.1\n",
    "    FastSmall = 2.2\n",
    "    SlowLarge = 2.3\n",
    "    SlowSmall = 2.4\n",
    "    \n",
    "    # SchoolOfFish = 3.1\n",
    "    # SingleFish = 3.2\n",
    "    # Kelp = 3.3\n",
    "    # DolphinOrPorpoise = 3.4\n",
    "\n",
    "# Read in existing DetectedTargets from file\n",
    "current_model_targets = []\n",
    "\n",
    "with open('current_model_targets.csv', 'r') as f:\n",
    "    csvreader = csv.reader(f, delimiter=\";\")\n",
    "    next(csvreader)  # reads in header, but ignores\n",
    "    for target in csvreader:\n",
    "        target_features = [float(target[1]), float(target[2]), float(target[3]), float(target[4]), float(target[5]), float(target[6]), float(target[7])]\n",
    "        current_model_targets.append( DetectedTarget( \\\n",
    "            features=target_features, source=target[8], date=target[9], classification=target[10]))\n",
    "        print(target_features)\n",
    "\n",
    "print(current_model_targets)\n",
    "        \n",
    "# Initialize model\n",
    "model = NearestNeighbors(radius=INITIAL_RADIUS)\n",
    "features = np.array(list(map(lambda x: x.features, current_model_targets)))"
   ]
  },
  {
   "cell_type": "code",
   "execution_count": 88,
   "metadata": {
    "collapsed": false
   },
   "outputs": [],
   "source": [
    "def rescaleFrom0To1(features):\n",
    "    for i in range(features.shape[1]):\n",
    "        if features[:,i].min() == features[:,i].max():\n",
    "            features[:,i] = 0.5\n",
    "        else:\n",
    "            features[:,i] = (features[:,i] - features[:,i].min()) / (features[:,i].max() - features[:,i].min())\n",
    "    return features"
   ]
  },
  {
   "cell_type": "code",
   "execution_count": 70,
   "metadata": {
    "collapsed": false
   },
   "outputs": [
    {
     "data": {
      "text/plain": [
       "array([[0, 0, 3, 4, 5, 6, 7],\n",
       "       [1, 1, 5, 4, 3, 2, 1]])"
      ]
     },
     "execution_count": 70,
     "metadata": {},
     "output_type": "execute_result"
    }
   ],
   "source": [
    "features"
   ]
  },
  {
   "cell_type": "code",
   "execution_count": 89,
   "metadata": {
    "collapsed": false
   },
   "outputs": [
    {
     "name": "stdout",
     "output_type": "stream",
     "text": [
      "[ 0.  1.]\n",
      "[ 0.  1.]\n",
      "[ 0.  1.]\n",
      "[ 0.5  0.5]\n",
      "[ 1.  0.]\n",
      "[ 1.  0.]\n",
      "[ 1.  0.]\n"
     ]
    },
    {
     "data": {
      "text/plain": [
       "dtype('float64')"
      ]
     },
     "execution_count": 89,
     "metadata": {},
     "output_type": "execute_result"
    }
   ],
   "source": [
    "rescaleFrom0To1(features)"
   ]
  }
 ],
 "metadata": {
  "kernelspec": {
   "display_name": "Python 3",
   "language": "python",
   "name": "python3"
  },
  "language_info": {
   "codemirror_mode": {
    "name": "ipython",
    "version": 3
   },
   "file_extension": ".py",
   "mimetype": "text/x-python",
   "name": "python",
   "nbconvert_exporter": "python",
   "pygments_lexer": "ipython3",
   "version": "3.5.1"
  }
 },
 "nbformat": 4,
 "nbformat_minor": 0
}
