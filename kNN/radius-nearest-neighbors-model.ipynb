{
 "cells": [
  {
   "cell_type": "code",
   "execution_count": 34,
   "metadata": {
    "collapsed": true
   },
   "outputs": [],
   "source": [
    "import numpy as np\n",
    "from sklearn.neighbors import NearestNeighbors"
   ]
  },
  {
   "cell_type": "code",
   "execution_count": 55,
   "metadata": {
    "collapsed": false
   },
   "outputs": [
    {
     "name": "stdout",
     "output_type": "stream",
     "text": [
      "2\n"
     ]
    }
   ],
   "source": [
    "r = 1 # Initial radius for model\n",
    "x = 1 # increment for expanding radius\n",
    "d = .01 # distance threshold for determing if two points near equidistant\n",
    "\n",
    "# existing points and corresponding classes\n",
    "existingPoints = np.array([[2,3,4,5,6,7,8],[1,3,4,5,6,7,8],[6,2,3,4,5,6,7]]) # existing points in model\n",
    "existingClasses = np.array([1,2,3])\n",
    "\n",
    "# initialize classifier\n",
    "neigh = NearestNeighbors(radius = r)\n",
    "\n",
    "# read in new point\n",
    "newPoints = np.array([2,3,4,5,6,7,8],ndmin=2)\n",
    "\n",
    "# fit existing points to classifier\n",
    "neigh.fit(existingPoints)\n",
    "\n",
    "#distances,indices = neigh.radius_neighbors(newPoints)\n",
    "\n",
    "newClass = classify(neigh,existingClasses,newPoints)\n",
    "\n",
    "# Add the new point and new class to the model. Class = 0 if point is unclassified\n",
    "existingPoints = np.append(existingPoints,newPoints)\n",
    "existingClasses = np.append(existingClasses,newClass)\n",
    "\n",
    "print(newClass)"
   ]
  },
  {
   "cell_type": "code",
   "execution_count": 54,
   "metadata": {
    "collapsed": false
   },
   "outputs": [],
   "source": [
    "def classify(neigh,existingClasses,newPoints):\n",
    "    \n",
    "    distances,indices = neigh.radius_neighbors(newPoints)\n",
    "\n",
    "    # if there are no points in the radius, expand radius by x and check again before classifying point.\n",
    "    if len(indices)==0 or len(indices)==1: \n",
    "        neigh.radius = r+x\n",
    "        distances,indices = neigh.radius_neighbors(newPoints)         \n",
    "        \n",
    "    # else if there are two points from different classes that are close to the same distance\n",
    "    # (within distance threshold), expand radius to see if there is another very close point\n",
    "    elif len(indices) ==2 and existingClasses[indices[0]]!=existingClasses[indices[1]]:\n",
    "        if abs(distances[0]-distances[1]) <= d:\n",
    "            neigh.radius = r+x\n",
    "    \n",
    "    # predict class of new data \n",
    "    if len(indices)!=0:\n",
    "        # calculate weights (arbitrary weights for now)\n",
    "        weights = np.array([0,5,5])\n",
    "        \n",
    "        # sum weights for each class\n",
    "        classes = existingClasses[indices[0]]\n",
    "        classes = np.unique(classes[np.where(classes!=0)])  # ignore zero class (outliers)\n",
    "                      \n",
    "        classWeight = np.zeros(len(classes)) # initialize weight array\n",
    "        \n",
    "        for i,cl in enumerate(classes):\n",
    "            classWeight[i] = sum(weights[np.where(classes==cl)])\n",
    "            \n",
    "        newClass = classes[np.argmax(classWeight)] \n",
    "                \n",
    "    else: \n",
    "        newClass = 0\n",
    "        \n",
    "    return(newClass)\n",
    "    \n",
    "    \n",
    "\n",
    "\n",
    "\n",
    "\n"
   ]
  },
  {
   "cell_type": "code",
   "execution_count": 4,
   "metadata": {
    "collapsed": false
   },
   "outputs": [],
   "source": [
    "## Since we are including PAMguard into feature space, use an enum to make np.array work"
   ]
  },
  {
   "cell_type": "code",
   "execution_count": 10,
   "metadata": {
    "collapsed": false
   },
   "outputs": [],
   "source": [
    "from datetime import datetime\n",
    "\n",
    "class DetectedTarget:\n",
    "    \n",
    "    features_label = [\"\",\"\",\"\",\"\",\"\",\"\",\"\",\"\"]\n",
    "        \n",
    "    def __init__(self, features=[], source=\"\", date=datetime.now(), classification=None):\n",
    "        self.features = features\n",
    "        self.source = source\n",
    "        self.date = date\n",
    "        self.classification = classification"
   ]
  },
  {
   "cell_type": "code",
   "execution_count": 88,
   "metadata": {
    "collapsed": false
   },
   "outputs": [],
   "source": [
    "def rescaleFrom0To1(features):\n",
    "    for i in range(features.shape[1]):\n",
    "        if features[:,i].min() == features[:,i].max():\n",
    "            features[:,i] = 0.5\n",
    "        else:\n",
    "            features[:,i] = (features[:,i] - features[:,i].min()) / (features[:,i].max() - features[:,i].min())\n",
    "    return features"
   ]
  },
  {
   "cell_type": "code",
   "execution_count": 70,
   "metadata": {
    "collapsed": false
   },
   "outputs": [
    {
     "data": {
      "text/plain": [
       "array([[0, 0, 3, 4, 5, 6, 7],\n",
       "       [1, 1, 5, 4, 3, 2, 1]])"
      ]
     },
     "execution_count": 70,
     "metadata": {},
     "output_type": "execute_result"
    }
   ],
   "source": [
    "features"
   ]
  },
  {
   "cell_type": "code",
   "execution_count": 89,
   "metadata": {
    "collapsed": false
   },
   "outputs": [
    {
     "name": "stdout",
     "output_type": "stream",
     "text": [
      "[ 0.  1.]\n",
      "[ 0.  1.]\n",
      "[ 0.  1.]\n",
      "[ 0.5  0.5]\n",
      "[ 1.  0.]\n",
      "[ 1.  0.]\n",
      "[ 1.  0.]\n"
     ]
    },
    {
     "data": {
      "text/plain": [
       "dtype('float64')"
      ]
     },
     "execution_count": 89,
     "metadata": {},
     "output_type": "execute_result"
    }
   ],
   "source": [
    "rescaleFrom0To1(features)"
   ]
  },
  {
   "cell_type": "code",
   "execution_count": 111,
   "metadata": {
    "collapsed": false
   },
   "outputs": [],
   "source": [
    "from enum import Enum\n",
    "import numpy as np\n",
    "from sklearn.neighbors import NearestNeighbors\n",
    "from datetime import datetime\n",
    "import os.path\n",
    "import csv\n",
    "\n",
    "class Classes(Enum):\n",
    "    Interesting = 1.1\n",
    "    NotInteresting = 1.2\n",
    "    \n",
    "    FastLarge = 2.1\n",
    "    FastSmall = 2.2\n",
    "    SlowLarge = 2.3\n",
    "    SlowSmall = 2.4\n",
    "    \n",
    "    # SchoolOfFish = 3.1\n",
    "    # SingleFish = 3.2\n",
    "    # Kelp = 3.3\n",
    "    # DolphinOrPorpoise = 3.4\n",
    "\n",
    "class DetectedTarget:\n",
    "    \n",
    "    features_label = [\"\",\"\",\"\",\"\",\"\",\"\",\"\",\"\"]\n",
    "        \n",
    "    def __init__(self, features=[], source=\"Unknown\", date=datetime.now(), classification=None):\n",
    "        self.features = features\n",
    "        self.source = source\n",
    "        self.date = date\n",
    "        self.classification = classification\n",
    "\n",
    "class weightedNeighbors:\n",
    "    \n",
    "    def __init__(self):\n",
    "        \n",
    "        # Global variables\n",
    "        self.INITIAL_RADIUS = 3.0\n",
    "        self.SIZE_FEATURE_WEIGHT = 1.0\n",
    "        self.SPEED_FEATURE_WEIGHT = 1.0\n",
    "        self.SPEED_RELATIVE_TO_CURRENT_FEATURE_WEIGHT = 1.0\n",
    "        self.TARGET_STRENGTH_FEATURE_WEIGHT = 1.0\n",
    "        self.CURRENT_SPEED_FEATURE_WEIGHT = 1.0\n",
    "        self.TIME_OF_DAY_FEATURE_WEIGHT = 1.0\n",
    "        self.PASSIVE_ACOUSTICS_FEATURE_WEIGHT = 1.0\n",
    "        self.RADIUS_INCREMENT = 0.1 # increment for expanding radius\n",
    "        self.DISTANCE_THRESHOLD = 0.01 # distance threshold for determing if two points near equidistant\n",
    "        \n",
    "        # load current model and initialize NearestNeighbors model\n",
    "        self.current_model_targets = self.load_detectedTargets()\n",
    "        self.model =  NearestNeighbors(radius=self.INITIAL_RADIUS)\n",
    "        \n",
    "    def load_detectedTargets(self):\n",
    "        '''\n",
    "        Load existing targets from current_model_targets.csv\n",
    "        '''\n",
    "        \n",
    "        current_model_targets = []\n",
    "        \n",
    "        if os.path.isfile('current_model_targets.csv'):\n",
    "            current_model_targets = []\n",
    "            with open('current_model_targets.csv', 'r') as f:\n",
    "                reader = csv.reader(f,delimiter = \";\")\n",
    "                next(reader,None)\n",
    "                for target in reader:\n",
    "                    current_model_targets.append( DetectedTarget(\n",
    "                            features=list(target[1:8]), source=target[8], date=target[10],\n",
    "                            classification=Classes(float(target[-1])))) \n",
    "\n",
    "        else:\n",
    "            print('No existing targets for model')\n",
    "                                                      \n",
    "        return current_model_targets\n",
    "    \n",
    "    def fitModel(self):\n",
    "        '''\n",
    "        Fit current model targets to model\n",
    "        '''\n",
    "        self.model.fit(np.array(list(map(lambda x: x.features, self.current_model_targets))))\n",
    "    \n",
    "    def determine_weights(self,indices):\n",
    "        '''\n",
    "        This function will return the weights of points with the desired indices\n",
    "        '''\n",
    "        pass\n",
    "        return np.array([0,5,5])\n",
    "        \n",
    "        \n",
    "    def classify(self,newPoint):\n",
    "        '''\n",
    "        Predict class of new target detection(s)\n",
    "        '''\n",
    "        x = self.RADIUS_INCREMENT \n",
    "        r = self.DISTANCE_THRESHOLD \n",
    "        \n",
    "        \n",
    "        existingClasses = np.array(list(map(lambda x: x.classification, self.current_model_targets)))\n",
    "\n",
    "        distances,indices = self.model.radius_neighbors(newPoint)\n",
    "\n",
    "        # if there are no points in the radius, expand radius by x and check again before classifying point.\n",
    "        if len(indices)==0 or len(indices)==1: \n",
    "            neigh.radius = r+x\n",
    "            distances,indices = self.model.radius_neighbors(newPoint)         \n",
    "\n",
    "        # else if there are two points from different classes that are close to the same distance\n",
    "        # (within distance threshold), expand radius to see if there is another very close point\n",
    "        elif len(indices) ==2 and existingClasses[indices[0]]!=existingClasses[indices[1]]:\n",
    "            if abs(distances[0]-distances[1]) <= d:\n",
    "                neigh.radius = r+x\n",
    "                distances,indices = self.model.radius_neighbors(newPoint) \n",
    "\n",
    "        # predict class of new data \n",
    "        if len(indices)!=0:\n",
    "            # calculate weights (arbitrary weights for now)\n",
    "            weights = self.determine_weights(indices)\n",
    "\n",
    "            # sum weights for each class\n",
    "            classes = existingClasses[indices[0]]\n",
    "            classes = np.unique(classes[np.where(classes!=0)])  # ignore zero class (outliers)\n",
    "\n",
    "            classWeight = np.zeros(len(classes)) # initialize weight array\n",
    "\n",
    "            for i,cl in enumerate(classes):\n",
    "                classWeight[i] = sum(weights[np.where(classes==cl)])\n",
    "\n",
    "            newClass = classes[np.argmax(classWeight)] \n",
    "\n",
    "        else: \n",
    "            newClass = 0\n",
    "                          \n",
    "        return(newClass)                                                     "
   ]
  },
  {
   "cell_type": "code",
   "execution_count": 112,
   "metadata": {
    "collapsed": false
   },
   "outputs": [
    {
     "name": "stdout",
     "output_type": "stream",
     "text": [
      "['7', '6', '5', '4', '3', '2', '1']\n",
      "[['1' '2' '3' '4' '5' '6' '7']\n",
      " ['7' '6' '5' '4' '3' '2' '1']]\n"
     ]
    },
    {
     "data": {
      "text/plain": [
       "<Classes.NotInteresting: 1.2>"
      ]
     },
     "execution_count": 112,
     "metadata": {},
     "output_type": "execute_result"
    }
   ],
   "source": [
    "neigh = weightedNeighbors()\n",
    "neigh.fitModel()\n",
    "neigh.classify(np.array([2,3,4,5,6,7,8],ndmin=2))"
   ]
  },
  {
   "cell_type": "code",
   "execution_count": 1,
   "metadata": {
    "collapsed": false
   },
   "outputs": [
    {
     "ename": "ImportError",
     "evalue": "No module named 'classification'",
     "output_type": "error",
     "traceback": [
      "\u001b[1;31m---------------------------------------------------------------------------\u001b[0m",
      "\u001b[1;31mImportError\u001b[0m                               Traceback (most recent call last)",
      "\u001b[1;32m<ipython-input-1-4d5f580873c7>\u001b[0m in \u001b[0;36m<module>\u001b[1;34m()\u001b[0m\n\u001b[1;32m----> 1\u001b[1;33m \u001b[1;32mimport\u001b[0m \u001b[0mclassification\u001b[0m\u001b[1;33m\u001b[0m\u001b[0m\n\u001b[0m",
      "\u001b[1;31mImportError\u001b[0m: No module named 'classification'"
     ]
    }
   ],
   "source": []
  },
  {
   "cell_type": "code",
   "execution_count": null,
   "metadata": {
    "collapsed": true
   },
   "outputs": [],
   "source": []
  }
 ],
 "metadata": {
  "kernelspec": {
   "display_name": "Python 3",
   "language": "python",
   "name": "python3"
  },
  "language_info": {
   "codemirror_mode": {
    "name": "ipython",
    "version": 3
   },
   "file_extension": ".py",
   "mimetype": "text/x-python",
   "name": "python",
   "nbconvert_exporter": "python",
   "pygments_lexer": "ipython3",
   "version": "3.5.1"
  }
 },
 "nbformat": 4,
 "nbformat_minor": 0
}
