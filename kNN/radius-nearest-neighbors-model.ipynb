{
 "cells": [
  {
   "cell_type": "code",
   "execution_count": 3,
   "metadata": {
    "collapsed": true
   },
   "outputs": [],
   "source": [
    "import numpy as np\n",
    "from sklearn import neighbors"
   ]
  },
  {
   "cell_type": "code",
   "execution_count": 55,
   "metadata": {
    "collapsed": false
   },
   "outputs": [
    {
     "name": "stdout",
     "output_type": "stream",
     "text": [
      "2\n"
     ]
    }
   ],
   "source": [
    "# using classifier\n",
    "\n",
    "r = 1 # Initial for model\n",
    "x = 1 # increment for expanding radius\n",
    "d = .01 # distance threshold for determing if two points near equidistant\n",
    "\n",
    "# existing points and corresponding classes\n",
    "existingPoints = np.array([[2,3,4,5,6,7,8],[1,3,4,5,6,7,8],[6,2,3,4,5,6,7]]) # existing points in model\n",
    "existingClasses = np.array([1,2,3])\n",
    "\n",
    "# initialize classifier\n",
    "neigh = neighbors.NearestNeighbors(radius = r)\n",
    "\n",
    "# read in new point\n",
    "newPoints = np.array([2,3,4,5,6,7,8],ndmin=2)\n",
    "\n",
    "# fit existing points to classifier\n",
    "neigh.fit(existingPoints)\n",
    "\n",
    "#distances,indices = neigh.radius_neighbors(newPoints)\n",
    "\n",
    "newClass = classify(neigh,existingClasses,newPoints)\n",
    "\n",
    "# Add the new point and new class to the model. Class = 0 if point is unclassified\n",
    "existingPoints = np.append(existingPoints,newPoints)\n",
    "existingClasses = np.append(existingClasses,newClass)\n",
    "\n",
    "print(newClass)"
   ]
  },
  {
   "cell_type": "code",
   "execution_count": 54,
   "metadata": {
    "collapsed": false
   },
   "outputs": [],
   "source": [
    "def classify(neigh,existingClasses,newPoints):\n",
    "    \n",
    "    distances,indices = neigh.radius_neighbors(newPoints)\n",
    "\n",
    "    # if there are no points in the radius, expand radius by x and check again before classifying point.\n",
    "    if len(indices)==0 or len(indices)==1: \n",
    "        neigh.radius = r+x\n",
    "        distances,indices = neigh.radius_neighbors(newPoints)         \n",
    "        \n",
    "    # else if there are two points from different classes that are close to the same distance\n",
    "    # (within distance threshold), expand radius to see if there is another very close point\n",
    "    elif len(indices) ==2 and existingClasses[indices[0]]!=existingClasses[indices[1]]:\n",
    "        if abs(distances[0]-distances[1]) <= d:\n",
    "            neigh.radius = r+x\n",
    "    \n",
    "    # predict class of new data \n",
    "    if len(indices)!=0:\n",
    "        # calculate weights (arbitrary weights for now)\n",
    "        weights = np.array([0,5,5])\n",
    "        \n",
    "        # sum weights for each class\n",
    "        classes = existingClasses[indices[0]]\n",
    "        classes = np.unique(classes[np.where(classes!=0)])  # ignore zero class (outliers)\n",
    "                      \n",
    "        classWeight = np.zeros(len(classes)) # initialize weight array\n",
    "        \n",
    "        for i,cl in enumerate(classes):\n",
    "            classWeight[i] = sum(weights[np.where(classes==cl)])\n",
    "            \n",
    "        newClass = classes[np.argmax(classWeight)] \n",
    "                \n",
    "    else: \n",
    "        newClass = 0\n",
    "        \n",
    "    return(newClass)\n",
    "    \n",
    "    \n",
    "\n",
    "\n",
    "\n",
    "\n"
   ]
  },
  {
   "cell_type": "code",
   "execution_count": null,
   "metadata": {
    "collapsed": false
   },
   "outputs": [],
   "source": []
  },
  {
   "cell_type": "code",
   "execution_count": null,
   "metadata": {
    "collapsed": false
   },
   "outputs": [],
   "source": []
  },
  {
   "cell_type": "code",
   "execution_count": null,
   "metadata": {
    "collapsed": false
   },
   "outputs": [],
   "source": []
  },
  {
   "cell_type": "code",
   "execution_count": null,
   "metadata": {
    "collapsed": false
   },
   "outputs": [],
   "source": []
  },
  {
   "cell_type": "code",
   "execution_count": null,
   "metadata": {
    "collapsed": true
   },
   "outputs": [],
   "source": []
  }
 ],
 "metadata": {
  "kernelspec": {
   "display_name": "Python 3",
   "language": "python",
   "name": "python3"
  },
  "language_info": {
   "codemirror_mode": {
    "name": "ipython",
    "version": 3
   },
   "file_extension": ".py",
   "mimetype": "text/x-python",
   "name": "python",
   "nbconvert_exporter": "python",
   "pygments_lexer": "ipython3",
   "version": "3.5.1"
  }
 },
 "nbformat": 4,
 "nbformat_minor": 0
}
