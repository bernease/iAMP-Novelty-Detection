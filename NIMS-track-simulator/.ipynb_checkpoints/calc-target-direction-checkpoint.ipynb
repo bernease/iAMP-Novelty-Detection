{
 "cells": [
  {
   "cell_type": "code",
   "execution_count": 27,
   "metadata": {
    "collapsed": false
   },
   "outputs": [
    {
     "data": {
      "text/plain": [
       "[2.098226801466877, 0.232321352824482]"
      ]
     },
     "execution_count": 27,
     "metadata": {},
     "output_type": "execute_result"
    }
   ],
   "source": [
    "from math import pi\n",
    "import math\n",
    "\n",
    "AMP_heading = pi/2 # rotation of AMP (radians from from due north)\n",
    "M3_swath = [0,120] # minimum and maximum angles for target detection (in degrees)\n",
    "point1 = [20,100] # range, bearing (degrees)\n",
    "point2 = [21,105] # range, bearing (degrees)\n",
    "\n",
    "target_velocity(point1, point2, AMP_heading, M3_swath = [0,120])\n"
   ]
  },
  {
   "cell_type": "code",
   "execution_count": 26,
   "metadata": {
    "collapsed": true
   },
   "outputs": [],
   "source": [
    "def target_velocity(point1, point2, AMP_heading, M3_swath = [0,120]):\n",
    "    \"\"\"\n",
    "    Determines magnitude and direction of target trajectory (from point 1 to point 2)\n",
    "    \n",
    "    Inputs: \n",
    "    point 1, point 2 = points where target was detected, in list format [range, bearing in degrees]\n",
    "    AMP_heading = heading of AMP, in radians from due north\n",
    "    M3_swath = list containing minimum and maximum angle ( in degrees) for M3 target \n",
    "               detection. Default is 0 --> 120 degrees\n",
    "    \n",
    "    Outputs:\n",
    "    vel = [velocity magnitude, velocity direction]\n",
    "    \"\"\"\n",
    "    \n",
    "    point1_cartesian = transform_NIMS_to_vector(point1, AMP_heading, M3_swath)\n",
    "    point2_cartesian = transform_NIMS_to_vector(point2, AMP_heading, M3_swath)\n",
    "\n",
    "    # subtract 2-1 to get velocity\n",
    "    vel = [point2_cartesian[0] - point1_cartesian[0], point2_cartesian[1] - point1_cartesian[1]]\n",
    "\n",
    "    # calculate magnitude and angle of velocity\n",
    "    vel_angle = math.atan(vel[1]/vel[0])\n",
    "    vel_mag = (vel[0]**2 + vel[1]**2)**1/2\n",
    "    \n",
    "    return([vel_mag, vel_angle])\n",
    "\n",
    "\n",
    "\n",
    "def transform_NIMS_to_vector(point, AMP_heading, M3_swath):\n",
    "    \"\"\"\n",
    "    Transform NIMS detection (in format [range, bearing in degrees]) to earth coordinates (East-North)\n",
    "    \n",
    "    Returns X-Y coordinates of point after transformation.\n",
    "    \"\"\"\n",
    "    # convert target bearing tp radians, and shift such that zero degrees is center of swath\n",
    "    point[1] = (point[1] - (M3_swath[1] - M3_swath[0])/2) * pi/180\n",
    "\n",
    "    # convert bearing to angle from due N by subtracting AMP angle\n",
    "    point[1] = point[1] - AMP_heading\n",
    "\n",
    "    # get vector components for point 1 and 2\n",
    "    point_cartesian = [point[0] * math.cos(point[1]), point[0] * math.sin(point[1])]\n",
    "    \n",
    "    return(point_cartesian)\n"
   ]
  },
  {
   "cell_type": "code",
   "execution_count": null,
   "metadata": {
    "collapsed": true
   },
   "outputs": [],
   "source": []
  }
 ],
 "metadata": {
  "kernelspec": {
   "display_name": "Python 3",
   "language": "python",
   "name": "python3"
  },
  "language_info": {
   "codemirror_mode": {
    "name": "ipython",
    "version": 3
   },
   "file_extension": ".py",
   "mimetype": "text/x-python",
   "name": "python",
   "nbconvert_exporter": "python",
   "pygments_lexer": "ipython3",
   "version": "3.5.1"
  }
 },
 "nbformat": 4,
 "nbformat_minor": 0
}
